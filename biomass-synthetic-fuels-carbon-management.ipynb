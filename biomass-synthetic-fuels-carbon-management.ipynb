{
 "cells": [
  {
   "cell_type": "markdown",
   "metadata": {},
   "source": [
    "# Biomass, synthetic fuels and carbon management\n",
    "\n",
    "In this example we show how to manage different biomass stocks with different potentials and costs, synthetic fuel production, direct air capture (DAC) and carbon capture and usage/sequestration/cycling (CCU/S/C).\n",
    "\n",
    "Demand for electricity and diesel transport have to be met from various biomass sources, natural gas with possibility for carbon capture, electrolysis for hydrogen production, direct air capture of CO2, and diesel synthesis via Fischer-Tropsch.\n",
    "\n",
    "The system has to reach a target of net negative emissions over the period.\n",
    "\n",
    "All numbers/costs/efficiencies are fictitious to allow easy analysis.\n",
    "\n",
    "\n",
    "This Jupyter Notebook is also available to download at: http://www.pypsa.org/examples/biomass-synthetic-fuels-carbon-management.ipynb.\n",
    "\n",
    "It demonstrates features of the energy system modelling tool PyPSA : https://github.com/PyPSA/PyPSA.\n"
   ]
  },
  {
   "cell_type": "code",
   "execution_count": 1,
   "metadata": {},
   "outputs": [],
   "source": [
    "import pypsa\n",
    "import numpy as np"
   ]
  },
  {
   "cell_type": "code",
   "execution_count": 2,
   "metadata": {},
   "outputs": [],
   "source": [
    "#First tell PyPSA that links can have multiple outputs by\n",
    "#overriding the component_attrs. This can be done for\n",
    "#as many buses as you need with format busi for i = 2,3,4,5,....\n",
    "#See https://pypsa.org/doc/components.html#link-with-multiple-outputs-or-inputs\n",
    "\n",
    "override_component_attrs = pypsa.descriptors.Dict({k : v.copy() for k,v in pypsa.components.component_attrs.items()})\n",
    "override_component_attrs[\"Link\"].loc[\"bus2\"] = [\"string\",np.nan,np.nan,\"2nd bus\",\"Input (optional)\"]\n",
    "override_component_attrs[\"Link\"].loc[\"bus3\"] = [\"string\",np.nan,np.nan,\"3rd bus\",\"Input (optional)\"]\n",
    "override_component_attrs[\"Link\"].loc[\"efficiency2\"] = [\"static or series\",\"per unit\",1.,\"2nd bus efficiency\",\"Input (optional)\"]\n",
    "override_component_attrs[\"Link\"].loc[\"efficiency3\"] = [\"static or series\",\"per unit\",1.,\"3rd bus efficiency\",\"Input (optional)\"]\n",
    "override_component_attrs[\"Link\"].loc[\"p2\"] = [\"series\",\"MW\",0.,\"2nd bus output\",\"Output\"]\n",
    "override_component_attrs[\"Link\"].loc[\"p3\"] = [\"series\",\"MW\",0.,\"3rd bus output\",\"Output\"]"
   ]
  },
  {
   "cell_type": "code",
   "execution_count": 3,
   "metadata": {},
   "outputs": [],
   "source": [
    "n = pypsa.Network(override_component_attrs=override_component_attrs)\n",
    "\n",
    "n.set_snapshots(range(10))\n",
    "\n",
    "#add a constant electrical load\n",
    "n.add(\"Bus\",\"bus\")\n",
    "n.add(\"Load\",\"load\",bus=\"bus\",\n",
    "      p_set=1.)\n",
    "\n",
    "#add a constant demand for transport\n",
    "n.add(\"Bus\",\"transport\")\n",
    "n.add(\"Load\",\"transport\",bus=\"transport\",\n",
    "      p_set=1.)\n",
    "\n",
    "\n",
    "n.add(\"Bus\",\"diesel\")\n",
    "\n",
    "\n",
    "n.add(\"Store\",\"diesel\",bus=\"diesel\",\n",
    "      e_cyclic=True,\n",
    "      e_nom=1000.)\n",
    "\n",
    "n.add(\"Bus\",\"hydrogen\")\n",
    "\n",
    "n.add(\"Store\",\"hydrogen\",bus=\"hydrogen\",\n",
    "      e_cyclic=True,\n",
    "      e_nom=1000.)\n",
    "\n",
    "#n.add(\"Load\",\"hydrogen\",\n",
    "#      bus=\"hydrogen\",\n",
    "#      p_set=1.)\n",
    "\n",
    "\n",
    "n.add(\"Link\",\"electrolysis\",\n",
    "      p_nom=2.,\n",
    "      efficiency=0.8,\n",
    "      bus0=\"bus\",\n",
    "      bus1=\"hydrogen\")\n",
    "\n",
    "\n",
    "#Allow production of diesel from H2 and CO2 using Fischer-Tropsch\n",
    "n.add(\"Link\",\"FT\",\n",
    "      p_nom=4,\n",
    "      bus0=\"hydrogen\",\n",
    "      bus1=\"diesel\",\n",
    "      bus2=\"co2 stored\",\n",
    "      efficiency=1.,\n",
    "      efficiency2=-1)\n",
    "\n",
    "\n",
    "#minus sign because opposite to how fossil fuels used:\n",
    "#CH4 burning puts CH4 down, atmosphere up\n",
    "n.add(\"Carrier\",\"co2\",\n",
    "      co2_emissions=-1.)\n",
    "\n",
    "#this tracks CO2 in the atmosphere\n",
    "n.add(\"Bus\",\"co2 atmosphere\",\n",
    "      carrier=\"co2\")\n",
    "\n",
    "#NB: can also be negative\n",
    "n.add(\"Store\",\"co2 atmosphere\",\n",
    "      e_nom=1000,\n",
    "      e_min_pu=-1,\n",
    "      bus=\"co2 atmosphere\")\n",
    "\n",
    "#this tracks CO2 stored, e.g. underground\n",
    "n.add(\"Bus\",\"co2 stored\")\n",
    "\n",
    "#NB: can also be negative\n",
    "n.add(\"Store\",\"co2 stored\",\n",
    "      e_nom = 1000,\n",
    "      e_min_pu=-1,\n",
    "      bus=\"co2 stored\")\n",
    "\n",
    "#direct air capture consumes electricity to take CO2 from the air to the underground store\n",
    "n.add(\"Link\",\"DAC\",\n",
    "      bus0=\"bus\",\n",
    "      bus1=\"co2 stored\",\n",
    "      bus2 = \"co2 atmosphere\",\n",
    "      efficiency=1,\n",
    "      efficiency2=-1,\n",
    "      p_nom=5.)\n",
    "\n",
    "\n",
    "#meet transport with diesel\n",
    "n.add(\"Link\",\"diesel car\",\n",
    "      bus0=\"diesel\",\n",
    "      bus1=\"transport\",\n",
    "      bus2=\"co2 atmosphere\",\n",
    "      efficiency=1.,\n",
    "      efficiency2=1.,\n",
    "      p_nom=2.)\n",
    "\n",
    "n.add(\"Bus\",\"gas\")\n",
    "\n",
    "n.add(\"Store\",\"gas\",\n",
    "      e_initial=50,\n",
    "      e_nom=50,\n",
    "      marginal_cost=20,\n",
    "      bus=\"gas\")\n",
    "\n",
    "n.add(\"Link\",\"OCGT\",\n",
    "      bus0 = \"gas\",\n",
    "      bus1 = \"bus\",\n",
    "      bus2 = \"co2 atmosphere\",\n",
    "      p_nom_extendable=True,\n",
    "      efficiency = 0.5,\n",
    "      efficiency2 = 1)\n",
    "\n",
    "\n",
    "n.add(\"Link\",\"OCGT+CCS\",\n",
    "      bus0 = \"gas\",\n",
    "      bus1 = \"bus\",\n",
    "      bus2 = \"co2 stored\",\n",
    "      bus3 = \"co2 atmosphere\",\n",
    "      p_nom_extendable=True,\n",
    "      efficiency = 0.4,\n",
    "      efficiency2 = 0.9,\n",
    "      efficiency3 = 0.1)\n",
    "\n",
    "\n",
    "\n",
    "#Cheap and expensive biomass\n",
    "biomass_marginal_cost = [20.,50.]\n",
    "biomass_stored = [40.,15.]\n",
    "\n",
    "for i in range(2):\n",
    "    n.add(\"Bus\",\"biomass\"+str(i))\n",
    "\n",
    "    n.add(\"Store\",\"biomass\"+str(i),\n",
    "          bus=\"biomass\"+str(i),\n",
    "          e_nom_extendable=True,\n",
    "          marginal_cost=biomass_marginal_cost[i],\n",
    "          e_nom=biomass_stored[i],\n",
    "          e_initial=biomass_stored[i])\n",
    "\n",
    "    #simultaneously empties and refills co2 atmosphere\n",
    "    n.add(\"Link\",\"biomass\"+str(i),\n",
    "          bus0 = \"biomass\"+str(i),\n",
    "          bus1 = \"bus\",\n",
    "          p_nom_extendable=True,\n",
    "          efficiency = 0.5)\n",
    "\n",
    "    n.add(\"Link\",\"biomass+CCS\"+str(i),\n",
    "          bus0 = \"biomass\"+str(i),\n",
    "          bus1 = \"bus\",\n",
    "          bus2 = \"co2 stored\",\n",
    "          bus3 = \"co2 atmosphere\",\n",
    "          p_nom_extendable=True,\n",
    "          efficiency = 0.4,\n",
    "          efficiency2 = 1.,\n",
    "          efficiency3 = -1)\n",
    "\n",
    "\n",
    "#can go to -50, but at some point can't generate enough electricity for DAC and demand\n",
    "target = -50\n",
    "\n",
    "n.add(\"GlobalConstraint\",\"co2_limit\",\n",
    "      sense=\"<=\",\n",
    "      carrier_attribute=\"co2_emissions\",\n",
    "      constant=target)"
   ]
  },
  {
   "cell_type": "code",
   "execution_count": 4,
   "metadata": {},
   "outputs": [
    {
     "name": "stderr",
     "output_type": "stream",
     "text": [
      "WARNING:pypsa.pf:No generators in sub-network 0, better hope power is already balanced\n",
      "INFO:pypsa.pf:Slack bus for sub-network 0 is bus\n",
      "WARNING:pypsa.pf:No generators in sub-network 1, better hope power is already balanced\n",
      "INFO:pypsa.pf:Slack bus for sub-network 1 is transport\n",
      "WARNING:pypsa.pf:No generators in sub-network 2, better hope power is already balanced\n",
      "INFO:pypsa.pf:Slack bus for sub-network 2 is diesel\n",
      "WARNING:pypsa.pf:No generators in sub-network 3, better hope power is already balanced\n",
      "INFO:pypsa.pf:Slack bus for sub-network 3 is hydrogen\n",
      "WARNING:pypsa.pf:No generators in sub-network 4, better hope power is already balanced\n",
      "INFO:pypsa.pf:Slack bus for sub-network 4 is co2 atmosphere\n",
      "WARNING:pypsa.pf:No generators in sub-network 5, better hope power is already balanced\n",
      "INFO:pypsa.pf:Slack bus for sub-network 5 is co2 stored\n",
      "WARNING:pypsa.pf:No generators in sub-network 6, better hope power is already balanced\n",
      "INFO:pypsa.pf:Slack bus for sub-network 6 is gas\n",
      "WARNING:pypsa.pf:No generators in sub-network 7, better hope power is already balanced\n",
      "INFO:pypsa.pf:Slack bus for sub-network 7 is biomass0\n",
      "WARNING:pypsa.pf:No generators in sub-network 8, better hope power is already balanced\n",
      "INFO:pypsa.pf:Slack bus for sub-network 8 is biomass1\n",
      "INFO:pypsa.opf:Performed preliminary steps\n",
      "INFO:pypsa.opf:Building pyomo model using `angles` formulation\n",
      "INFO:pypsa.opf:Solving model using glpk\n",
      "INFO:pypsa.opf:Optimization successful\n"
     ]
    },
    {
     "name": "stdout",
     "output_type": "stream",
     "text": [
      "# ==========================================================\n",
      "# = Solver Results                                         =\n",
      "# ==========================================================\n",
      "# ----------------------------------------------------------\n",
      "#   Problem Information\n",
      "# ----------------------------------------------------------\n",
      "Problem: \n",
      "- Name: unknown\n",
      "  Lower bound: 1916.66666666667\n",
      "  Upper bound: 1916.66666666667\n",
      "  Number of objectives: 1\n",
      "  Number of constraints: 492\n",
      "  Number of variables: 339\n",
      "  Number of nonzeros: 987\n",
      "  Sense: minimize\n",
      "# ----------------------------------------------------------\n",
      "#   Solver Information\n",
      "# ----------------------------------------------------------\n",
      "Solver: \n",
      "- Status: ok\n",
      "  Termination condition: optimal\n",
      "  Statistics: \n",
      "    Branch and bound: \n",
      "      Number of bounded subproblems: 0\n",
      "      Number of created subproblems: 0\n",
      "  Error rc: 0\n",
      "  Time: 0.028773784637451172\n",
      "# ----------------------------------------------------------\n",
      "#   Solution Information\n",
      "# ----------------------------------------------------------\n",
      "Solution: \n",
      "- number of solutions: 0\n",
      "  number of solutions displayed: 0\n"
     ]
    },
    {
     "data": {
      "text/plain": [
       "('ok', 'optimal')"
      ]
     },
     "execution_count": 4,
     "metadata": {},
     "output_type": "execute_result"
    }
   ],
   "source": [
    "n.lopf()"
   ]
  },
  {
   "cell_type": "code",
   "execution_count": 5,
   "metadata": {},
   "outputs": [
    {
     "data": {
      "text/plain": [
       "<matplotlib.axes._subplots.AxesSubplot at 0x7fc998806588>"
      ]
     },
     "execution_count": 5,
     "metadata": {},
     "output_type": "execute_result"
    },
    {
     "data": {
      "image/png": "[encoded data removed]",
      "text/plain": [
       "<Figure size 432x288 with 1 Axes>"
      ]
     },
     "metadata": {
      "needs_background": "light"
     },
     "output_type": "display_data"
    }
   ],
   "source": [
    "n.stores_t.e.plot()"
   ]
  },
  {
   "cell_type": "code",
   "execution_count": 6,
   "metadata": {},
   "outputs": [
    {
     "data": {
      "text/plain": [
       "<matplotlib.axes._subplots.AxesSubplot at 0x7fc9986592e8>"
      ]
     },
     "execution_count": 6,
     "metadata": {},
     "output_type": "execute_result"
    },
    {
     "data": {
      "image/png": "[encoded data removed]",
      "text/plain": [
       "<Figure size 432x288 with 1 Axes>"
      ]
     },
     "metadata": {
      "needs_background": "light"
     },
     "output_type": "display_data"
    }
   ],
   "source": [
    "n.links_t.p0[[\"biomass+CCS0\",\"biomass+CCS1\",\"OCGT+CCS\",\"DAC\"]].plot()"
   ]
  },
  {
   "cell_type": "code",
   "execution_count": 7,
   "metadata": {},
   "outputs": [
    {
     "data": {
      "text/plain": [
       "0    54.422222\n",
       "1    54.422222\n",
       "2    54.422222\n",
       "3    54.422222\n",
       "4    54.422222\n",
       "5    54.422222\n",
       "6    54.422222\n",
       "7    54.422222\n",
       "8    54.422222\n",
       "9    54.422222\n",
       "dtype: float64"
      ]
     },
     "execution_count": 7,
     "metadata": {},
     "output_type": "execute_result"
    }
   ],
   "source": [
    "#at all times, the amount of carbon is constant\n",
    "n.stores_t.e[[\"co2 stored\",\"co2 atmosphere\",\"gas\",\"diesel\"]].sum(axis=1)"
   ]
  }
 ],
 "metadata": {
  "kernelspec": {
   "display_name": "Python 3",
   "language": "python",
   "name": "python3"
  },
  "language_info": {
   "codemirror_mode": {
    "name": "ipython",
    "version": 3
   },
   "file_extension": ".py",
   "mimetype": "text/x-python",
   "name": "python",
   "nbconvert_exporter": "python",
   "pygments_lexer": "ipython3",
   "version": "3.7.3"
  }
 },
 "nbformat": 4,
 "nbformat_minor": 2
}
