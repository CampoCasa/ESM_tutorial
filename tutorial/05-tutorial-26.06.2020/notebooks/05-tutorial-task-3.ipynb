{
 "cells": [
  {
   "cell_type": "markdown",
   "metadata": {},
   "source": [
    "# Energy System Modelling - Tutorial V.4"
   ]
  },
  {
   "cell_type": "code",
   "execution_count": 1159,
   "metadata": {},
   "outputs": [],
   "source": [
    "import pypsa\n",
    "import numpy as np\n",
    "import matplotlib.pyplot as plt\n",
    "plt.style.use('bmh')\n",
    "%matplotlib inline"
   ]
  },
  {
   "cell_type": "markdown",
   "metadata": {},
   "source": [
    "Allow pypsa component link to have multiple out- and inputs (further information https://pypsa.org/doc/components.html#link-with-multiple-outputs-or-inputs)"
   ]
  },
  {
   "cell_type": "code",
   "execution_count": 1160,
   "metadata": {},
   "outputs": [],
   "source": [
    "override_component_attrs = pypsa.descriptors.Dict({k : v.copy() for k,v in pypsa.components.component_attrs.items()})\n",
    "override_component_attrs[\"Link\"].loc[\"bus2\"] = [\"string\",np.nan,np.nan,\"2nd bus\",\"Input (optional)\"]\n",
    "override_component_attrs[\"Link\"].loc[\"bus3\"] = [\"string\",np.nan,np.nan,\"3rd bus\",\"Input (optional)\"]\n",
    "override_component_attrs[\"Link\"].loc[\"efficiency2\"] = [\"static or series\",\"per unit\",1.,\"2nd bus efficiency\",\"Input (optional)\"]\n",
    "override_component_attrs[\"Link\"].loc[\"efficiency3\"] = [\"static or series\",\"per unit\",1.,\"3rd bus efficiency\",\"Input (optional)\"]\n",
    "override_component_attrs[\"Link\"].loc[\"p2\"] = [\"series\",\"MW\",0.,\"2nd bus output\",\"Output\"]\n",
    "override_component_attrs[\"Link\"].loc[\"p3\"] = [\"series\",\"MW\",0.,\"3rd bus output\",\"Output\"]"
   ]
  },
  {
   "cell_type": "markdown",
   "metadata": {},
   "source": [
    "Create a pypsa network with multi-links"
   ]
  },
  {
   "cell_type": "code",
   "execution_count": 1161,
   "metadata": {},
   "outputs": [],
   "source": [
    "n = pypsa.Network(override_component_attrs=override_component_attrs)"
   ]
  },
  {
   "cell_type": "markdown",
   "metadata": {},
   "source": [
    "set the snapshots\n"
   ]
  },
  {
   "cell_type": "code",
   "execution_count": 1162,
   "metadata": {},
   "outputs": [],
   "source": [
    "n.set_snapshots(range(10))"
   ]
  },
  {
   "cell_type": "markdown",
   "metadata": {},
   "source": [
    "add a bus and the corresponding load for the carriers transport, electricity"
   ]
  },
  {
   "cell_type": "code",
   "execution_count": 1163,
   "metadata": {},
   "outputs": [],
   "source": [
    "# electrical bus + load (constant)\n",
    "n.add(\"Bus\",\n",
    "      \"electric\")\n",
    "\n",
    "n.add(\"Load\",\n",
    "      \"electric\",\n",
    "      bus=\"electric\",\n",
    "      p_set=1.)\n",
    "\n",
    "# transport bus + load (constant)\n",
    "n.add(\"Bus\",\n",
    "      \"transport\")\n",
    "\n",
    "n.add(\"Load\",\n",
    "      \"transport\",\n",
    "      bus=\"transport\",\n",
    "      p_set=1.)\n"
   ]
  },
  {
   "cell_type": "markdown",
   "metadata": {},
   "source": [
    "add a bus for hydrogen, gas, diesel and biomass and a corresponding store\n"
   ]
  },
  {
   "cell_type": "code",
   "execution_count": 1164,
   "metadata": {},
   "outputs": [],
   "source": [
    "# hydrogen \n",
    "n.add(\"Bus\",\n",
    "      \"hydrogen\")\n",
    "\n",
    "n.add(\"Store\",\n",
    "      \"hydrogen\",\n",
    "      bus=\"hydrogen\",\n",
    "      e_nom=50.,\n",
    "      e_initial=50)\n",
    "\n",
    "# gas\n",
    "n.add(\"Bus\",\n",
    "      \"gas\")\n",
    "\n",
    "n.add(\"Store\",\n",
    "      \"gas\",\n",
    "      e_initial=50,\n",
    "      e_nom=50,\n",
    "      marginal_cost=10.,\n",
    "      bus=\"gas\")\n",
    "\n",
    "# diesel\n",
    "n.add(\"Bus\",\n",
    "      \"diesel\")\n",
    "\n",
    "n.add(\"Store\",\n",
    "      \"diesel\",\n",
    "      bus=\"diesel\",\n",
    "      e_cyclic=True,\n",
    "      e_nom=100.)\n",
    "\n",
    "# # biomass\n",
    "# n.add(\"Bus\",\n",
    "#       \"biomass\")\n",
    "\n",
    "# n.add(\"Store\",\n",
    "#       \"biomass\",\n",
    "#       bus=\"biomass\",\n",
    "#       marginal_cost=50., \n",
    "#       e_nom=40,\n",
    "#       e_initial=40)\n"
   ]
  },
  {
   "cell_type": "markdown",
   "metadata": {},
   "source": [
    "The CO2 can be stored (for example in underground cavern, see https://en.wikipedia.org/wiki/Carbon_capture_and_storage#Geological_storage). To model CO2 storage we have to keep track of the CO2\n",
    "which is emitted to the atmosphere. Therefore we add a bus and a storage for the CO2 in the atmosphere \n",
    "and the stored CO2"
   ]
  },
  {
   "cell_type": "code",
   "execution_count": 1165,
   "metadata": {},
   "outputs": [],
   "source": [
    "# minus sign because opposite to how fossil fuels used:\n",
    "# CH4 burning puts CH4 down, atmosphere up\n",
    "n.add(\"Carrier\",\"co2\",\n",
    "      co2_emissions=-1.)\n",
    "\n",
    "# this tracks CO2 in the atmosphere\n",
    "n.add(\"Bus\",\n",
    "      \"co2 atmosphere\",\n",
    "      carrier=\"co2\")\n",
    "\n",
    "n.add(\"Store\",\n",
    "      \"co2 atmosphere\",\n",
    "      e_min_pu=-1,\n",
    "      e_nom_extendable=True,\n",
    "      bus=\"co2 atmosphere\")\n",
    "\n",
    "# this tracks CO2 stored, e.g. underground\n",
    "n.add(\"Bus\",\n",
    "      \"co2 stored\")\n",
    "\n",
    "n.add(\"Store\",\"co2 stored\",\n",
    "      e_nom_extendable=True,\n",
    "      e_min_pu=-1,\n",
    "      capital_cost=5,\n",
    "      bus=\"co2 stored\")"
   ]
  },
  {
   "cell_type": "markdown",
   "metadata": {},
   "source": [
    "Add the possibility of Direct Air Capture (DAC) (see https://en.wikipedia.org/wiki/Direct_air_capture) of CO2. It is captured from the atmosphere and stored."
   ]
  },
  {
   "cell_type": "code",
   "execution_count": 1166,
   "metadata": {},
   "outputs": [],
   "source": [
    "# Direct Air Capture (DAC)\n",
    "n.add(\"Link\",\n",
    "      \"DAC\",\n",
    "      bus0=\"co2 atmosphere\",\n",
    "      bus1=\"co2 stored\",\n",
    "      efficiency=1,\n",
    "      marginal_cost=30,\n",
    "      p_nom_extendable=True)"
   ]
  },
  {
   "cell_type": "markdown",
   "metadata": {},
   "source": [
    "Add diesel cars to satisfy the transport demand using a multi-link"
   ]
  },
  {
   "cell_type": "code",
   "execution_count": 1167,
   "metadata": {},
   "outputs": [],
   "source": [
    "# diesel car\n",
    "n.add(\"Link\",\n",
    "      \"diesel car\",\n",
    "      bus0=\"diesel\",\n",
    "      bus1=\"transport\",\n",
    "      bus2=\"co2 atmosphere\",\n",
    "      efficiency=1.,\n",
    "      efficiency2=1.,\n",
    "      p_nom=2.)"
   ]
  },
  {
   "cell_type": "markdown",
   "metadata": {},
   "source": [
    "Add a open-cyclce gas turbine (OCGT) and biomass to satisfy the electricity demand"
   ]
  },
  {
   "cell_type": "code",
   "execution_count": 1168,
   "metadata": {},
   "outputs": [],
   "source": [
    "# OCGT\n",
    "n.add(\"Link\",\n",
    "      \"OCGT\",\n",
    "      bus0=\"gas\",\n",
    "      bus1=\"electric\",\n",
    "      bus2=\"co2 atmosphere\",\n",
    "      p_nom_extendable=True,\n",
    "      efficiency=0.5,\n",
    "      efficiency2=1)\n",
    "\n",
    "# biomass\n",
    "# n.add(\"Link\",\n",
    "#       \"biomass\",\n",
    "#       bus0=\"biomass\",\n",
    "#       bus1=\"electric\",\n",
    "#       p_nom_extendable=True,\n",
    "#       efficiency=0.5)"
   ]
  },
  {
   "cell_type": "markdown",
   "metadata": {},
   "source": [
    "Add electrolysis to convert hydrogen to electricity"
   ]
  },
  {
   "cell_type": "code",
   "execution_count": 1169,
   "metadata": {},
   "outputs": [],
   "source": [
    "#n.add(\"Link\",\n",
    " #     \"electrolysis\",\n",
    " #     p_nom=2.,\n",
    " #     efficiency=0.8,\n",
    " #     bus0=\"electric\",\n",
    " #     bus1=\"hydrogen\")"
   ]
  },
  {
   "cell_type": "markdown",
   "metadata": {},
   "source": [
    "Diesel can be produced from H2 and CO2 via Fischer-Tropsch (see https://en.wikipedia.org/wiki/Fischer%E2%80%93Tropsch_process)\n",
    "Add a link which represents this process"
   ]
  },
  {
   "cell_type": "code",
   "execution_count": 1170,
   "metadata": {},
   "outputs": [],
   "source": [
    "n.add(\"Link\",\n",
    "      \"Fischer-Tropsch\",\n",
    "      p_nom=4,\n",
    "      bus0=\"hydrogen\",\n",
    "      bus1=\"diesel\",\n",
    "      bus2=\"co2 stored\",\n",
    "      efficiency=1.,\n",
    "      efficiency2=-1)"
   ]
  },
  {
   "cell_type": "markdown",
   "metadata": {},
   "source": [
    "Now we can set an upper limit for the CO2 emissions and add this limit as an additional constraint to the \n",
    "optimisation problem"
   ]
  },
  {
   "cell_type": "code",
   "execution_count": 1171,
   "metadata": {},
   "outputs": [],
   "source": [
    "limit = 0\n",
    "n.add(\"GlobalConstraint\",\n",
    "      \"co2_limit\",\n",
    "      sense=\"<=\",\n",
    "      carrier_attribute=\"co2_emissions\",\n",
    "      constant=limit)"
   ]
  },
  {
   "cell_type": "markdown",
   "metadata": {},
   "source": [
    "Solve the optimisation problem"
   ]
  },
  {
   "cell_type": "code",
   "execution_count": 1172,
   "metadata": {},
   "outputs": [
    {
     "name": "stderr",
     "output_type": "stream",
     "text": [
      "INFO:pypsa.opf:Performed preliminary steps\n",
      "INFO:pypsa.opf:Building pyomo model using `kirchhoff` formulation\n",
      "INFO:pypsa.opf:Solving model using glpk\n",
      "INFO:pypsa.opf:Optimization successful\n"
     ]
    },
    {
     "name": "stdout",
     "output_type": "stream",
     "text": [
      "# ==========================================================\n",
      "# = Solver Results                                         =\n",
      "# ==========================================================\n",
      "# ----------------------------------------------------------\n",
      "#   Problem Information\n",
      "# ----------------------------------------------------------\n",
      "Problem: \n",
      "- Name: unknown\n",
      "  Lower bound: 1200.0\n",
      "  Upper bound: 1200.0\n",
      "  Number of objectives: 1\n",
      "  Number of constraints: 242\n",
      "  Number of variables: 145\n",
      "  Number of nonzeros: 488\n",
      "  Sense: minimize\n",
      "# ----------------------------------------------------------\n",
      "#   Solver Information\n",
      "# ----------------------------------------------------------\n",
      "Solver: \n",
      "- Status: ok\n",
      "  Termination condition: optimal\n",
      "  Statistics: \n",
      "    Branch and bound: \n",
      "      Number of bounded subproblems: 0\n",
      "      Number of created subproblems: 0\n",
      "  Error rc: 0\n",
      "  Time: 0.0203249454498291\n",
      "# ----------------------------------------------------------\n",
      "#   Solution Information\n",
      "# ----------------------------------------------------------\n",
      "Solution: \n",
      "- number of solutions: 0\n",
      "  number of solutions displayed: 0\n"
     ]
    },
    {
     "data": {
      "text/plain": [
       "('ok', 'optimal')"
      ]
     },
     "execution_count": 1172,
     "metadata": {},
     "output_type": "execute_result"
    }
   ],
   "source": [
    "n.lopf()"
   ]
  },
  {
   "cell_type": "code",
   "execution_count": 1173,
   "metadata": {},
   "outputs": [
    {
     "data": {
      "text/plain": [
       "<matplotlib.legend.Legend at 0x7fcdc4a6d430>"
      ]
     },
     "execution_count": 1173,
     "metadata": {},
     "output_type": "execute_result"
    },
    {
     "data": {
      "image/png": "[encoded data removed]",
      "text/plain": [
       "<Figure size 432x288 with 1 Axes>"
      ]
     },
     "metadata": {
      "needs_background": "light"
     },
     "output_type": "display_data"
    }
   ],
   "source": [
    "n.stores_t.e.plot().legend(bbox_to_anchor=(1,1))"
   ]
  },
  {
   "cell_type": "code",
   "execution_count": 1174,
   "metadata": {},
   "outputs": [
    {
     "data": {
      "text/plain": [
       "(1200.0,\n",
       " co2_limit    35.0\n",
       " Name: mu, dtype: float64)"
      ]
     },
     "execution_count": 1174,
     "metadata": {},
     "output_type": "execute_result"
    }
   ],
   "source": [
    "n.objective, n.global_constraints.mu"
   ]
  },
  {
   "cell_type": "code",
   "execution_count": 1175,
   "metadata": {},
   "outputs": [
    {
     "data": {
      "text/plain": [
       "DAC                6.0\n",
       "diesel car         2.0\n",
       "OCGT               2.0\n",
       "Fischer-Tropsch    4.0\n",
       "Name: p_nom_opt, dtype: float64"
      ]
     },
     "execution_count": 1175,
     "metadata": {},
     "output_type": "execute_result"
    }
   ],
   "source": [
    "n.links.p_nom_opt"
   ]
  },
  {
   "cell_type": "markdown",
   "metadata": {},
   "source": [
    "Show that at every time step the amount of carbon in the whole system is constant"
   ]
  },
  {
   "cell_type": "code",
   "execution_count": 1176,
   "metadata": {},
   "outputs": [
    {
     "data": {
      "text/plain": [
       "0    51.0\n",
       "1    51.0\n",
       "2    51.0\n",
       "3    51.0\n",
       "4    51.0\n",
       "5    51.0\n",
       "6    51.0\n",
       "7    51.0\n",
       "8    51.0\n",
       "9    51.0\n",
       "dtype: float64"
      ]
     },
     "execution_count": 1176,
     "metadata": {},
     "output_type": "execute_result"
    }
   ],
   "source": [
    "n.stores_t.e[[\"co2 stored\",\"co2 atmosphere\",\"gas\",\"diesel\"]].sum(axis=1)"
   ]
  },
  {
   "cell_type": "code",
   "execution_count": 1177,
   "metadata": {},
   "outputs": [
    {
     "data": {
      "text/plain": [
       "hydrogen           50.0\n",
       "gas                50.0\n",
       "diesel            100.0\n",
       "co2 atmosphere      6.0\n",
       "co2 stored         20.0\n",
       "Name: e_nom_opt, dtype: float64"
      ]
     },
     "execution_count": 1177,
     "metadata": {},
     "output_type": "execute_result"
    }
   ],
   "source": [
    "n.stores.e_nom_opt"
   ]
  },
  {
   "cell_type": "markdown",
   "metadata": {},
   "source": [
    "How does the result change when we add Carbon Capture and Storage (CCS) for biomass and OCGT?"
   ]
  },
  {
   "cell_type": "code",
   "execution_count": 1178,
   "metadata": {},
   "outputs": [],
   "source": [
    "# OCGT + Carbon Capture and Storage (CCS)\n",
    "n.add(\"Link\",\"OCGT+CCS\",\n",
    "      bus0 = \"gas\",\n",
    "      bus1 = \"electric\",\n",
    "      bus2 = \"co2 stored\",\n",
    "      bus3 = \"co2 atmosphere\",\n",
    "      p_nom_extendable=True,\n",
    "      marginal_cost=8.50,\n",
    "      efficiency = 0.4,\n",
    "      efficiency2 = 0.9,\n",
    "      efficiency3 = 0.1)\n",
    "\n",
    "# # biomass + Carbon Capture and Storage (CCS)\n",
    "# n.add(\"Link\",\"biomass+CCS\",\n",
    "#       bus0 = \"biomass\",\n",
    "#       bus1 = \"electric\",\n",
    "#       bus2 = \"co2 stored\",\n",
    "#       bus3 = \"co2 atmosphere\",\n",
    "#       p_nom_extendable=True,\n",
    "#       efficiency = 0.4,\n",
    "#       efficiency2 = 1.,\n",
    "#       efficiency3 = -1)"
   ]
  },
  {
   "cell_type": "markdown",
   "metadata": {},
   "source": [
    "And solve the network again:"
   ]
  },
  {
   "cell_type": "code",
   "execution_count": 1179,
   "metadata": {},
   "outputs": [
    {
     "name": "stderr",
     "output_type": "stream",
     "text": [
      "INFO:pypsa.opf:Performed preliminary steps\n",
      "INFO:pypsa.opf:Building pyomo model using `kirchhoff` formulation\n",
      "INFO:pypsa.opf:Solving model using glpk\n",
      "INFO:pypsa.opf:Optimization successful\n"
     ]
    },
    {
     "name": "stdout",
     "output_type": "stream",
     "text": [
      "# ==========================================================\n",
      "# = Solver Results                                         =\n",
      "# ==========================================================\n",
      "# ----------------------------------------------------------\n",
      "#   Problem Information\n",
      "# ----------------------------------------------------------\n",
      "Problem: \n",
      "- Name: unknown\n",
      "  Lower bound: 962.5\n",
      "  Upper bound: 962.5\n",
      "  Number of objectives: 1\n",
      "  Number of constraints: 262\n",
      "  Number of variables: 156\n",
      "  Number of nonzeros: 558\n",
      "  Sense: minimize\n",
      "# ----------------------------------------------------------\n",
      "#   Solver Information\n",
      "# ----------------------------------------------------------\n",
      "Solver: \n",
      "- Status: ok\n",
      "  Termination condition: optimal\n",
      "  Statistics: \n",
      "    Branch and bound: \n",
      "      Number of bounded subproblems: 0\n",
      "      Number of created subproblems: 0\n",
      "  Error rc: 0\n",
      "  Time: 0.021686792373657227\n",
      "# ----------------------------------------------------------\n",
      "#   Solution Information\n",
      "# ----------------------------------------------------------\n",
      "Solution: \n",
      "- number of solutions: 0\n",
      "  number of solutions displayed: 0\n"
     ]
    },
    {
     "data": {
      "text/plain": [
       "('ok', 'optimal')"
      ]
     },
     "execution_count": 1179,
     "metadata": {},
     "output_type": "execute_result"
    }
   ],
   "source": [
    "n.lopf()\n"
   ]
  },
  {
   "cell_type": "code",
   "execution_count": 1180,
   "metadata": {},
   "outputs": [
    {
     "data": {
      "text/plain": [
       "<matplotlib.axes._subplots.AxesSubplot at 0x7fcdc4f6d490>"
      ]
     },
     "execution_count": 1180,
     "metadata": {},
     "output_type": "execute_result"
    },
    {
     "data": {
      "image/png": "[encoded data removed]",
      "text/plain": [
       "<Figure size 432x288 with 1 Axes>"
      ]
     },
     "metadata": {
      "needs_background": "light"
     },
     "output_type": "display_data"
    }
   ],
   "source": [
    "n.stores_t.e.plot()"
   ]
  },
  {
   "cell_type": "code",
   "execution_count": 1181,
   "metadata": {},
   "outputs": [
    {
     "data": {
      "text/plain": [
       "(co2_limit    35.0\n",
       " Name: mu, dtype: float64,\n",
       " 962.5)"
      ]
     },
     "execution_count": 1181,
     "metadata": {},
     "output_type": "execute_result"
    }
   ],
   "source": [
    "n.global_constraints.mu, n.objective"
   ]
  },
  {
   "cell_type": "code",
   "execution_count": 1182,
   "metadata": {},
   "outputs": [
    {
     "data": {
      "text/plain": [
       "<matplotlib.axes._subplots.AxesSubplot at 0x7fcdc4f6c7c0>"
      ]
     },
     "execution_count": 1182,
     "metadata": {},
     "output_type": "execute_result"
    },
    {
     "data": {
      "image/png": "[encoded data removed]",
      "text/plain": [
       "<Figure size 432x288 with 1 Axes>"
      ]
     },
     "metadata": {
      "needs_background": "light"
     },
     "output_type": "display_data"
    }
   ],
   "source": [
    "n.links_t.p0.loc[:, \"OCGT+CCS\"].plot()"
   ]
  },
  {
   "cell_type": "code",
   "execution_count": 1183,
   "metadata": {},
   "outputs": [
    {
     "data": {
      "text/html": [
       "<div>\n",
       "<style scoped>\n",
       "    .dataframe tbody tr th:only-of-type {\n",
       "        vertical-align: middle;\n",
       "    }\n",
       "\n",
       "    .dataframe tbody tr th {\n",
       "        vertical-align: top;\n",
       "    }\n",
       "\n",
       "    .dataframe thead th {\n",
       "        text-align: right;\n",
       "    }\n",
       "</style>\n",
       "<table border=\"1\" class=\"dataframe\">\n",
       "  <thead>\n",
       "    <tr style=\"text-align: right;\">\n",
       "      <th>attribute</th>\n",
       "      <th>bus0</th>\n",
       "      <th>bus1</th>\n",
       "      <th>type</th>\n",
       "      <th>efficiency</th>\n",
       "      <th>p_nom</th>\n",
       "      <th>p_nom_extendable</th>\n",
       "      <th>p_nom_min</th>\n",
       "      <th>p_nom_max</th>\n",
       "      <th>p_set</th>\n",
       "      <th>p_min_pu</th>\n",
       "      <th>p_max_pu</th>\n",
       "      <th>capital_cost</th>\n",
       "      <th>marginal_cost</th>\n",
       "      <th>length</th>\n",
       "      <th>terrain_factor</th>\n",
       "      <th>p_nom_opt</th>\n",
       "      <th>bus2</th>\n",
       "      <th>bus3</th>\n",
       "      <th>efficiency2</th>\n",
       "      <th>efficiency3</th>\n",
       "    </tr>\n",
       "  </thead>\n",
       "  <tbody>\n",
       "    <tr>\n",
       "      <th>DAC</th>\n",
       "      <td>co2 atmosphere</td>\n",
       "      <td>co2 stored</td>\n",
       "      <td></td>\n",
       "      <td>1.0</td>\n",
       "      <td>0.0</td>\n",
       "      <td>True</td>\n",
       "      <td>0.0</td>\n",
       "      <td>inf</td>\n",
       "      <td>0.0</td>\n",
       "      <td>0.0</td>\n",
       "      <td>1.0</td>\n",
       "      <td>0.0</td>\n",
       "      <td>30.0</td>\n",
       "      <td>0.0</td>\n",
       "      <td>1.0</td>\n",
       "      <td>2.5</td>\n",
       "      <td></td>\n",
       "      <td></td>\n",
       "      <td>1.0</td>\n",
       "      <td>1.0</td>\n",
       "    </tr>\n",
       "    <tr>\n",
       "      <th>diesel car</th>\n",
       "      <td>diesel</td>\n",
       "      <td>transport</td>\n",
       "      <td></td>\n",
       "      <td>1.0</td>\n",
       "      <td>2.0</td>\n",
       "      <td>False</td>\n",
       "      <td>0.0</td>\n",
       "      <td>inf</td>\n",
       "      <td>0.0</td>\n",
       "      <td>0.0</td>\n",
       "      <td>1.0</td>\n",
       "      <td>0.0</td>\n",
       "      <td>0.0</td>\n",
       "      <td>0.0</td>\n",
       "      <td>1.0</td>\n",
       "      <td>2.0</td>\n",
       "      <td>co2 atmosphere</td>\n",
       "      <td></td>\n",
       "      <td>1.0</td>\n",
       "      <td>1.0</td>\n",
       "    </tr>\n",
       "    <tr>\n",
       "      <th>OCGT</th>\n",
       "      <td>gas</td>\n",
       "      <td>electric</td>\n",
       "      <td></td>\n",
       "      <td>0.5</td>\n",
       "      <td>0.0</td>\n",
       "      <td>True</td>\n",
       "      <td>0.0</td>\n",
       "      <td>inf</td>\n",
       "      <td>0.0</td>\n",
       "      <td>0.0</td>\n",
       "      <td>1.0</td>\n",
       "      <td>0.0</td>\n",
       "      <td>0.0</td>\n",
       "      <td>0.0</td>\n",
       "      <td>1.0</td>\n",
       "      <td>0.0</td>\n",
       "      <td>co2 atmosphere</td>\n",
       "      <td></td>\n",
       "      <td>1.0</td>\n",
       "      <td>1.0</td>\n",
       "    </tr>\n",
       "    <tr>\n",
       "      <th>Fischer-Tropsch</th>\n",
       "      <td>hydrogen</td>\n",
       "      <td>diesel</td>\n",
       "      <td></td>\n",
       "      <td>1.0</td>\n",
       "      <td>4.0</td>\n",
       "      <td>False</td>\n",
       "      <td>0.0</td>\n",
       "      <td>inf</td>\n",
       "      <td>0.0</td>\n",
       "      <td>0.0</td>\n",
       "      <td>1.0</td>\n",
       "      <td>0.0</td>\n",
       "      <td>0.0</td>\n",
       "      <td>0.0</td>\n",
       "      <td>1.0</td>\n",
       "      <td>4.0</td>\n",
       "      <td>co2 stored</td>\n",
       "      <td></td>\n",
       "      <td>-1.0</td>\n",
       "      <td>1.0</td>\n",
       "    </tr>\n",
       "    <tr>\n",
       "      <th>OCGT+CCS</th>\n",
       "      <td>gas</td>\n",
       "      <td>electric</td>\n",
       "      <td></td>\n",
       "      <td>0.4</td>\n",
       "      <td>0.0</td>\n",
       "      <td>True</td>\n",
       "      <td>0.0</td>\n",
       "      <td>inf</td>\n",
       "      <td>0.0</td>\n",
       "      <td>0.0</td>\n",
       "      <td>1.0</td>\n",
       "      <td>0.0</td>\n",
       "      <td>8.5</td>\n",
       "      <td>0.0</td>\n",
       "      <td>1.0</td>\n",
       "      <td>2.5</td>\n",
       "      <td>co2 stored</td>\n",
       "      <td>co2 atmosphere</td>\n",
       "      <td>0.9</td>\n",
       "      <td>0.1</td>\n",
       "    </tr>\n",
       "  </tbody>\n",
       "</table>\n",
       "</div>"
      ],
      "text/plain": [
       "attribute                  bus0        bus1 type  efficiency  p_nom  \\\n",
       "DAC              co2 atmosphere  co2 stored              1.0    0.0   \n",
       "diesel car               diesel   transport              1.0    2.0   \n",
       "OCGT                        gas    electric              0.5    0.0   \n",
       "Fischer-Tropsch        hydrogen      diesel              1.0    4.0   \n",
       "OCGT+CCS                    gas    electric              0.4    0.0   \n",
       "\n",
       "attribute        p_nom_extendable  p_nom_min  p_nom_max  p_set  p_min_pu  \\\n",
       "DAC                          True        0.0        inf    0.0       0.0   \n",
       "diesel car                  False        0.0        inf    0.0       0.0   \n",
       "OCGT                         True        0.0        inf    0.0       0.0   \n",
       "Fischer-Tropsch             False        0.0        inf    0.0       0.0   \n",
       "OCGT+CCS                     True        0.0        inf    0.0       0.0   \n",
       "\n",
       "attribute        p_max_pu  capital_cost  marginal_cost  length  \\\n",
       "DAC                   1.0           0.0           30.0     0.0   \n",
       "diesel car            1.0           0.0            0.0     0.0   \n",
       "OCGT                  1.0           0.0            0.0     0.0   \n",
       "Fischer-Tropsch       1.0           0.0            0.0     0.0   \n",
       "OCGT+CCS              1.0           0.0            8.5     0.0   \n",
       "\n",
       "attribute        terrain_factor  p_nom_opt            bus2            bus3  \\\n",
       "DAC                         1.0        2.5                                   \n",
       "diesel car                  1.0        2.0  co2 atmosphere                   \n",
       "OCGT                        1.0        0.0  co2 atmosphere                   \n",
       "Fischer-Tropsch             1.0        4.0      co2 stored                   \n",
       "OCGT+CCS                    1.0        2.5      co2 stored  co2 atmosphere   \n",
       "\n",
       "attribute        efficiency2  efficiency3  \n",
       "DAC                      1.0          1.0  \n",
       "diesel car               1.0          1.0  \n",
       "OCGT                     1.0          1.0  \n",
       "Fischer-Tropsch         -1.0          1.0  \n",
       "OCGT+CCS                 0.9          0.1  "
      ]
     },
     "execution_count": 1183,
     "metadata": {},
     "output_type": "execute_result"
    }
   ],
   "source": [
    "n.links\n"
   ]
  },
  {
   "cell_type": "code",
   "execution_count": 1184,
   "metadata": {},
   "outputs": [
    {
     "data": {
      "text/plain": [
       "hydrogen           50.0\n",
       "gas                50.0\n",
       "diesel            100.0\n",
       "co2 atmosphere      2.5\n",
       "co2 stored         25.0\n",
       "Name: e_nom_opt, dtype: float64"
      ]
     },
     "execution_count": 1184,
     "metadata": {},
     "output_type": "execute_result"
    }
   ],
   "source": [
    "n.stores.e_nom_opt"
   ]
  },
  {
   "cell_type": "code",
   "execution_count": 1187,
   "metadata": {},
   "outputs": [
    {
     "data": {
      "text/plain": [
       "<matplotlib.axes._subplots.AxesSubplot at 0x7fcdc57f5af0>"
      ]
     },
     "execution_count": 1187,
     "metadata": {},
     "output_type": "execute_result"
    },
    {
     "data": {
      "image/png": "[encoded data removed]",
      "text/plain": [
       "<Figure size 432x288 with 1 Axes>"
      ]
     },
     "metadata": {
      "needs_background": "light"
     },
     "output_type": "display_data"
    }
   ],
   "source": [
    "n.links_t.p0.plot()"
   ]
  },
  {
   "cell_type": "code",
   "execution_count": 1188,
   "metadata": {},
   "outputs": [
    {
     "data": {
      "text/html": [
       "<div>\n",
       "<style scoped>\n",
       "    .dataframe tbody tr th:only-of-type {\n",
       "        vertical-align: middle;\n",
       "    }\n",
       "\n",
       "    .dataframe tbody tr th {\n",
       "        vertical-align: top;\n",
       "    }\n",
       "\n",
       "    .dataframe thead th {\n",
       "        text-align: right;\n",
       "    }\n",
       "</style>\n",
       "<table border=\"1\" class=\"dataframe\">\n",
       "  <thead>\n",
       "    <tr style=\"text-align: right;\">\n",
       "      <th></th>\n",
       "      <th>DAC</th>\n",
       "      <th>diesel car</th>\n",
       "      <th>OCGT</th>\n",
       "      <th>Fischer-Tropsch</th>\n",
       "      <th>OCGT+CCS</th>\n",
       "    </tr>\n",
       "  </thead>\n",
       "  <tbody>\n",
       "    <tr>\n",
       "      <th>0</th>\n",
       "      <td>2.5</td>\n",
       "      <td>1.0</td>\n",
       "      <td>0.0</td>\n",
       "      <td>0.0</td>\n",
       "      <td>2.5</td>\n",
       "    </tr>\n",
       "    <tr>\n",
       "      <th>1</th>\n",
       "      <td>2.5</td>\n",
       "      <td>1.0</td>\n",
       "      <td>0.0</td>\n",
       "      <td>4.0</td>\n",
       "      <td>2.5</td>\n",
       "    </tr>\n",
       "    <tr>\n",
       "      <th>2</th>\n",
       "      <td>0.0</td>\n",
       "      <td>1.0</td>\n",
       "      <td>0.0</td>\n",
       "      <td>4.0</td>\n",
       "      <td>2.5</td>\n",
       "    </tr>\n",
       "    <tr>\n",
       "      <th>3</th>\n",
       "      <td>0.0</td>\n",
       "      <td>1.0</td>\n",
       "      <td>0.0</td>\n",
       "      <td>2.0</td>\n",
       "      <td>2.5</td>\n",
       "    </tr>\n",
       "    <tr>\n",
       "      <th>4</th>\n",
       "      <td>2.5</td>\n",
       "      <td>1.0</td>\n",
       "      <td>0.0</td>\n",
       "      <td>0.0</td>\n",
       "      <td>2.5</td>\n",
       "    </tr>\n",
       "    <tr>\n",
       "      <th>5</th>\n",
       "      <td>0.0</td>\n",
       "      <td>1.0</td>\n",
       "      <td>0.0</td>\n",
       "      <td>0.0</td>\n",
       "      <td>2.5</td>\n",
       "    </tr>\n",
       "    <tr>\n",
       "      <th>6</th>\n",
       "      <td>0.0</td>\n",
       "      <td>1.0</td>\n",
       "      <td>0.0</td>\n",
       "      <td>0.0</td>\n",
       "      <td>2.5</td>\n",
       "    </tr>\n",
       "    <tr>\n",
       "      <th>7</th>\n",
       "      <td>2.5</td>\n",
       "      <td>1.0</td>\n",
       "      <td>0.0</td>\n",
       "      <td>0.0</td>\n",
       "      <td>2.5</td>\n",
       "    </tr>\n",
       "    <tr>\n",
       "      <th>8</th>\n",
       "      <td>0.0</td>\n",
       "      <td>1.0</td>\n",
       "      <td>0.0</td>\n",
       "      <td>0.0</td>\n",
       "      <td>2.5</td>\n",
       "    </tr>\n",
       "    <tr>\n",
       "      <th>9</th>\n",
       "      <td>2.5</td>\n",
       "      <td>1.0</td>\n",
       "      <td>0.0</td>\n",
       "      <td>0.0</td>\n",
       "      <td>2.5</td>\n",
       "    </tr>\n",
       "  </tbody>\n",
       "</table>\n",
       "</div>"
      ],
      "text/plain": [
       "   DAC  diesel car  OCGT  Fischer-Tropsch  OCGT+CCS\n",
       "0  2.5         1.0   0.0              0.0       2.5\n",
       "1  2.5         1.0   0.0              4.0       2.5\n",
       "2  0.0         1.0   0.0              4.0       2.5\n",
       "3  0.0         1.0   0.0              2.0       2.5\n",
       "4  2.5         1.0   0.0              0.0       2.5\n",
       "5  0.0         1.0   0.0              0.0       2.5\n",
       "6  0.0         1.0   0.0              0.0       2.5\n",
       "7  2.5         1.0   0.0              0.0       2.5\n",
       "8  0.0         1.0   0.0              0.0       2.5\n",
       "9  2.5         1.0   0.0              0.0       2.5"
      ]
     },
     "execution_count": 1188,
     "metadata": {},
     "output_type": "execute_result"
    }
   ],
   "source": [
    "n.links_t.p0\n"
   ]
  },
  {
   "cell_type": "code",
   "execution_count": 1189,
   "metadata": {},
   "outputs": [
    {
     "data": {
      "text/plain": [
       "DAC                2.5\n",
       "diesel car         2.0\n",
       "OCGT               0.0\n",
       "Fischer-Tropsch    4.0\n",
       "OCGT+CCS           2.5\n",
       "Name: p_nom_opt, dtype: float64"
      ]
     },
     "execution_count": 1189,
     "metadata": {},
     "output_type": "execute_result"
    }
   ],
   "source": [
    "n.links.p_nom_opt"
   ]
  },
  {
   "cell_type": "code",
   "execution_count": 1193,
   "metadata": {},
   "outputs": [],
   "source": [
    "n.global_constraints.constant = -50"
   ]
  },
  {
   "cell_type": "code",
   "execution_count": 1194,
   "metadata": {},
   "outputs": [
    {
     "name": "stderr",
     "output_type": "stream",
     "text": [
      "INFO:pypsa.opf:Performed preliminary steps\n",
      "INFO:pypsa.opf:Building pyomo model using `kirchhoff` formulation\n",
      "INFO:pypsa.opf:Solving model using glpk\n",
      "INFO:pypsa.opf:Optimization successful\n"
     ]
    },
    {
     "name": "stdout",
     "output_type": "stream",
     "text": [
      "# ==========================================================\n",
      "# = Solver Results                                         =\n",
      "# ==========================================================\n",
      "# ----------------------------------------------------------\n",
      "#   Problem Information\n",
      "# ----------------------------------------------------------\n",
      "Problem: \n",
      "- Name: unknown\n",
      "  Lower bound: 2712.5\n",
      "  Upper bound: 2712.5\n",
      "  Number of objectives: 1\n",
      "  Number of constraints: 262\n",
      "  Number of variables: 156\n",
      "  Number of nonzeros: 558\n",
      "  Sense: minimize\n",
      "# ----------------------------------------------------------\n",
      "#   Solver Information\n",
      "# ----------------------------------------------------------\n",
      "Solver: \n",
      "- Status: ok\n",
      "  Termination condition: optimal\n",
      "  Statistics: \n",
      "    Branch and bound: \n",
      "      Number of bounded subproblems: 0\n",
      "      Number of created subproblems: 0\n",
      "  Error rc: 0\n",
      "  Time: 0.04013490676879883\n",
      "# ----------------------------------------------------------\n",
      "#   Solution Information\n",
      "# ----------------------------------------------------------\n",
      "Solution: \n",
      "- number of solutions: 0\n",
      "  number of solutions displayed: 0\n"
     ]
    },
    {
     "data": {
      "text/plain": [
       "('ok', 'optimal')"
      ]
     },
     "execution_count": 1194,
     "metadata": {},
     "output_type": "execute_result"
    }
   ],
   "source": [
    "n.lopf()"
   ]
  },
  {
   "cell_type": "code",
   "execution_count": 1195,
   "metadata": {},
   "outputs": [
    {
     "data": {
      "text/plain": [
       "DAC                12.5\n",
       "diesel car          2.0\n",
       "OCGT                0.0\n",
       "Fischer-Tropsch     4.0\n",
       "OCGT+CCS            2.5\n",
       "Name: p_nom_opt, dtype: float64"
      ]
     },
     "execution_count": 1195,
     "metadata": {},
     "output_type": "execute_result"
    }
   ],
   "source": [
    "n.links.p_nom_opt\n"
   ]
  },
  {
   "cell_type": "code",
   "execution_count": 1196,
   "metadata": {},
   "outputs": [
    {
     "data": {
      "text/plain": [
       "<matplotlib.axes._subplots.AxesSubplot at 0x7fcdc576b730>"
      ]
     },
     "execution_count": 1196,
     "metadata": {},
     "output_type": "execute_result"
    },
    {
     "data": {
      "image/png": "[encoded data removed]",
      "text/plain": [
       "<Figure size 432x288 with 1 Axes>"
      ]
     },
     "metadata": {
      "needs_background": "light"
     },
     "output_type": "display_data"
    }
   ],
   "source": [
    "n.stores_t.e.plot()"
   ]
  },
  {
   "cell_type": "code",
   "execution_count": null,
   "metadata": {},
   "outputs": [],
   "source": []
  }
 ],
 "metadata": {
  "kernelspec": {
   "display_name": "Python [conda env:esm-tutorials] *",
   "language": "python",
   "name": "conda-env-esm-tutorials-py"
  },
  "language_info": {
   "codemirror_mode": {
    "name": "ipython",
    "version": 3
   },
   "file_extension": ".py",
   "mimetype": "text/x-python",
   "name": "python",
   "nbconvert_exporter": "python",
   "pygments_lexer": "ipython3",
   "version": "3.8.2"
  }
 },
 "nbformat": 4,
 "nbformat_minor": 4
}
